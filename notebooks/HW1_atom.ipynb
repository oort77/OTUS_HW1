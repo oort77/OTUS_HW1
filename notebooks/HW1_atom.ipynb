{
 "cells": [
  {
   "cell_type": "code",
   "execution_count": null,
   "id": "82b2ce7d",
   "metadata": {
    "ExecuteTime": {
     "end_time": "2021-12-18T22:48:55.146649Z",
     "start_time": "2021-12-18T22:48:55.144380Z"
    }
   },
   "outputs": [],
   "source": [
    "# -*- coding: utf-8 -*-\n",
    "#  File: HW1_atom.ipynb\n",
    "#  Project: 'OTUS Homework #1'\n",
    "#  Created by Gennady Matveev (gm@og.ly) on 16-12-2021."
   ]
  },
  {
   "cell_type": "markdown",
   "id": "b41ec8a4",
   "metadata": {},
   "source": [
    "# **$Homework 1$**  \n"
   ]
  },
  {
   "cell_type": "markdown",
   "id": "f139aca9",
   "metadata": {},
   "source": [
    "Goals:   \n",
    "- Compare four gradient boosting algorithms: sklearn GBT, XGBoost, CatBoost, LightGBM\n",
    "- Implement EDA, preprocessing, and feature engineering\n",
    "- Tune hyperparameters"
   ]
  },
  {
   "cell_type": "markdown",
   "id": "6dc56d34",
   "metadata": {},
   "source": [
    "Means:  \n",
    "- All meaningful programming will be done in ATOM  \n",
    "    https://tvdboom.github.io/ATOM/about/"
   ]
  },
  {
   "cell_type": "markdown",
   "id": "90e07ab3",
   "metadata": {},
   "source": [
    "Dataset:\n",
    "- Student Performance on an entrance examination Data Set  https://archive.ics.uci.edu/ml/datasets/Student+Performance+on+an+entrance+examination"
   ]
  },
  {
   "cell_type": "markdown",
   "id": "50bdd442",
   "metadata": {},
   "source": [
    "Abbreviations:\n",
    "- EDA: exploratory data analysis\n",
    "- BO: bayesian optimization\n",
    "- FE: feature engineering\n",
    "- DFS: deep feature synthesis"
   ]
  },
  {
   "cell_type": "markdown",
   "id": "d1f43b9e",
   "metadata": {},
   "source": [
    "### Import libraries and setup notebook"
   ]
  },
  {
   "cell_type": "code",
   "execution_count": null,
   "id": "ea69d922",
   "metadata": {
    "ExecuteTime": {
     "end_time": "2021-12-18T22:48:57.399044Z",
     "start_time": "2021-12-18T22:48:55.148236Z"
    }
   },
   "outputs": [],
   "source": [
    "import pandas as pd\n",
    "import numpy as np\n",
    "from atom import ATOMClassifier\n",
    "from scipy.io import arff\n",
    "import pandas_profiling\n",
    "import matplotlib.pyplot as plt\n",
    "import seaborn as sns\n",
    "from IPython.core.display import display, HTML\n",
    "import warnings\n",
    "# import sys\n",
    "# sys.path.append('../src/')\n",
    "# from utilities import *\n",
    "\n",
    "display(HTML(\"<style>.container { width:80% !important; }</style>\"))\n",
    "%config InlineBackend.figure_format = 'retina'\n",
    "# plt.rcParams['figure.figsize']=(10,5)\n",
    "sns.set(rc = {'figure.figsize':(8,5)})\n",
    "warnings.filterwarnings(\"ignore\")\n",
    "\n",
    "random_state = 17"
   ]
  },
  {
   "cell_type": "markdown",
   "id": "86a87b33",
   "metadata": {},
   "source": [
    "### Load data"
   ]
  },
  {
   "cell_type": "code",
   "execution_count": null,
   "id": "68a0ab9f",
   "metadata": {
    "ExecuteTime": {
     "end_time": "2021-12-18T22:48:57.413902Z",
     "start_time": "2021-12-18T22:48:57.400135Z"
    }
   },
   "outputs": [],
   "source": [
    "data, meta = arff.loadarff('../data/CEE_DATA.arff')\n",
    "df = pd.DataFrame(data).applymap(lambda x: x.decode('utf-8'))"
   ]
  },
  {
   "cell_type": "markdown",
   "id": "1e2b4598",
   "metadata": {},
   "source": [
    "#### Small bit of preprocessing - XGBoost needs special target encoding"
   ]
  },
  {
   "cell_type": "code",
   "execution_count": null,
   "id": "96b72421",
   "metadata": {
    "ExecuteTime": {
     "end_time": "2021-12-18T22:48:57.497364Z",
     "start_time": "2021-12-18T22:48:57.414906Z"
    }
   },
   "outputs": [],
   "source": [
    "df[\"Performance\"] = df[\"Performance\"].map(\n",
    "    {'Average': 0, 'Good': 1, 'Vg': 2, 'Excellent': 3})"
   ]
  },
  {
   "cell_type": "markdown",
   "id": "82cc1fdd",
   "metadata": {},
   "source": [
    "####  Split target from features"
   ]
  },
  {
   "cell_type": "code",
   "execution_count": null,
   "id": "feb6760b",
   "metadata": {
    "ExecuteTime": {
     "end_time": "2021-12-18T22:48:57.596898Z",
     "start_time": "2021-12-18T22:48:57.498395Z"
    }
   },
   "outputs": [],
   "source": [
    "X = df[df.columns[1:]]\n",
    "y = df[df.columns[0]]"
   ]
  },
  {
   "cell_type": "markdown",
   "id": "5e2a08ff",
   "metadata": {},
   "source": [
    "### EDA"
   ]
  },
  {
   "cell_type": "markdown",
   "id": "1526f430",
   "metadata": {},
   "source": [
    "#### Basic dataset information"
   ]
  },
  {
   "cell_type": "code",
   "execution_count": null,
   "id": "7fc4aa52",
   "metadata": {
    "ExecuteTime": {
     "end_time": "2021-12-18T22:48:57.704709Z",
     "start_time": "2021-12-18T22:48:57.598406Z"
    }
   },
   "outputs": [],
   "source": [
    "print(meta)\n",
    "df.head(3)"
   ]
  },
  {
   "cell_type": "code",
   "execution_count": null,
   "id": "74d3f53d",
   "metadata": {
    "ExecuteTime": {
     "end_time": "2021-12-18T22:48:57.809882Z",
     "start_time": "2021-12-18T22:48:57.705651Z"
    }
   },
   "outputs": [],
   "source": [
    "df.info()"
   ]
  },
  {
   "cell_type": "code",
   "execution_count": null,
   "id": "86eacfce",
   "metadata": {
    "ExecuteTime": {
     "end_time": "2021-12-18T22:48:57.928109Z",
     "start_time": "2021-12-18T22:48:57.810815Z"
    }
   },
   "outputs": [],
   "source": [
    "X.describe().T"
   ]
  },
  {
   "cell_type": "markdown",
   "id": "79855e59",
   "metadata": {},
   "source": [
    "#### Target values distribution"
   ]
  },
  {
   "cell_type": "code",
   "execution_count": null,
   "id": "0d150684",
   "metadata": {
    "ExecuteTime": {
     "end_time": "2021-12-18T22:48:58.171501Z",
     "start_time": "2021-12-18T22:48:57.929000Z"
    }
   },
   "outputs": [],
   "source": [
    "sns.countplot(df['Performance'], data=df)\n",
    "plt.suptitle('Target distribution by classes')\n",
    "\n",
    "print(f'Target distribution by classes:')\n",
    "df[\"Performance\"].value_counts(\n",
    "    normalize=True).apply(lambda x: f'{x*100:.1f} %')"
   ]
  },
  {
   "cell_type": "markdown",
   "id": "1e510804",
   "metadata": {},
   "source": [
    "#### twelve_education and Caste features seem to be important"
   ]
  },
  {
   "cell_type": "code",
   "execution_count": null,
   "id": "d5dfb997",
   "metadata": {
    "ExecuteTime": {
     "end_time": "2021-12-18T22:48:58.325461Z",
     "start_time": "2021-12-18T22:48:58.172462Z"
    }
   },
   "outputs": [],
   "source": [
    "_ = sns.countplot(x=df['twelve_education'], hue=df['Performance'], data=df)\n",
    "plt.suptitle('Target distribution:\\n\"twelve_education\" feature')"
   ]
  },
  {
   "cell_type": "code",
   "execution_count": null,
   "id": "2f31f18a",
   "metadata": {
    "ExecuteTime": {
     "end_time": "2021-12-18T22:48:58.493161Z",
     "start_time": "2021-12-18T22:48:58.326404Z"
    }
   },
   "outputs": [],
   "source": [
    "_ = sns.countplot(x=df['Caste'], hue=df['Performance'], data=df)\n",
    "plt.suptitle('Target distribution:\\n\"Caste\" feature')"
   ]
  },
  {
   "cell_type": "markdown",
   "id": "0ea1a0d9",
   "metadata": {},
   "source": [
    "#### Run profile report on the dataset"
   ]
  },
  {
   "cell_type": "code",
   "execution_count": null,
   "id": "6cbd1d69",
   "metadata": {
    "ExecuteTime": {
     "end_time": "2021-12-18T22:48:58.496044Z",
     "start_time": "2021-12-18T22:48:58.494170Z"
    }
   },
   "outputs": [],
   "source": [
    "X.profile_report()"
   ]
  },
  {
   "cell_type": "markdown",
   "id": "dcf13ebd",
   "metadata": {},
   "source": [
    "Observations:  \n",
    "- Dataset has no missiong values\n",
    "- Roughly 10% of rows have duplicates - will ignore this, may be a coincidence\n",
    "- All features are categorical with smallish number of unique values\n",
    "- Many features have very uneven distributions with predominance of a single class\n",
    "- Target values are distributed fairly equally between classes\n",
    "- A number of feature pairs exhibit sizable correlation that may lead to their collinearity\n",
    "- Only a few features have significant correlation with the target"
   ]
  },
  {
   "cell_type": "markdown",
   "id": "a4703278",
   "metadata": {},
   "source": [
    "### Pipeline"
   ]
  },
  {
   "cell_type": "markdown",
   "id": "40b17665",
   "metadata": {},
   "source": [
    "#### Initialise classifier"
   ]
  },
  {
   "cell_type": "code",
   "execution_count": null,
   "id": "930121ac",
   "metadata": {
    "ExecuteTime": {
     "end_time": "2021-12-18T22:48:58.708367Z",
     "start_time": "2021-12-18T22:48:58.496820Z"
    }
   },
   "outputs": [],
   "source": [
    "atom = ATOMClassifier(X, y, test_size=0.25, verbose=2,\n",
    "                      warnings=False, random_state=random_state)"
   ]
  },
  {
   "cell_type": "markdown",
   "id": "90966b60",
   "metadata": {},
   "source": [
    "#### Preprocessing - encode features"
   ]
  },
  {
   "cell_type": "code",
   "execution_count": null,
   "id": "78348870",
   "metadata": {
    "ExecuteTime": {
     "end_time": "2021-12-18T22:48:58.880742Z",
     "start_time": "2021-12-18T22:48:58.709228Z"
    }
   },
   "outputs": [],
   "source": [
    "atom.encode()"
   ]
  },
  {
   "cell_type": "markdown",
   "id": "d7dbaa29",
   "metadata": {},
   "source": [
    "#### Setup Decision Tree classifier as a baseline model and check its performance"
   ]
  },
  {
   "cell_type": "code",
   "execution_count": null,
   "id": "f9e561bf",
   "metadata": {
    "ExecuteTime": {
     "end_time": "2021-12-18T22:48:59.000845Z",
     "start_time": "2021-12-18T22:48:58.884110Z"
    }
   },
   "outputs": [],
   "source": [
    "atom.run(\n",
    "    models='tree',\n",
    "    metric = [\"roc_auc_ovr\", \"f1_weighted\"]\n",
    ")  "
   ]
  },
  {
   "cell_type": "code",
   "execution_count": null,
   "id": "c82dd2f1-acfe-492d-9ac1-7d143090cf2c",
   "metadata": {},
   "outputs": [],
   "source": [
    "# Remove Decision Tree from the pipeline\n",
    "atom.delete('tree')"
   ]
  },
  {
   "cell_type": "markdown",
   "id": "f26af642",
   "metadata": {},
   "source": [
    "#### Run the pipeline with default hyperparameters"
   ]
  },
  {
   "cell_type": "markdown",
   "id": "e3be0bae",
   "metadata": {},
   "source": [
    "##### Choose models and metrics"
   ]
  },
  {
   "cell_type": "code",
   "execution_count": null,
   "id": "8208732b",
   "metadata": {
    "ExecuteTime": {
     "end_time": "2021-12-18T22:48:59.080173Z",
     "start_time": "2021-12-18T22:48:59.002764Z"
    }
   },
   "outputs": [],
   "source": [
    "models = ['GBM', 'XGB', 'CATB', 'LGB']\n",
    "metric = [\"roc_auc_ovr\", \"f1_weighted\"]"
   ]
  },
  {
   "cell_type": "code",
   "execution_count": null,
   "id": "91403180",
   "metadata": {
    "ExecuteTime": {
     "end_time": "2021-12-18T22:49:01.908366Z",
     "start_time": "2021-12-18T22:48:59.081093Z"
    }
   },
   "outputs": [],
   "source": [
    "atom.run(\n",
    "    models=models,\n",
    "    metric=metric\n",
    ")"
   ]
  },
  {
   "cell_type": "markdown",
   "id": "61f54db3",
   "metadata": {},
   "source": [
    "#### Check train and test metrics"
   ]
  },
  {
   "cell_type": "markdown",
   "id": "90fb07d4",
   "metadata": {
    "ExecuteTime": {
     "end_time": "2021-12-18T22:45:28.486294Z",
     "start_time": "2021-12-18T22:45:28.483513Z"
    }
   },
   "source": [
    "Todo: transform atom.results"
   ]
  },
  {
   "cell_type": "code",
   "execution_count": null,
   "id": "0d9a92b1",
   "metadata": {
    "ExecuteTime": {
     "end_time": "2021-12-18T22:49:02.114765Z",
     "start_time": "2021-12-18T22:49:01.909512Z"
    }
   },
   "outputs": [],
   "source": [
    "atom.plot_results(figsize=(8,5))\n",
    "atom.results[[ \"metric_train\", \"metric_test\"]].applymap(lambda x: (round(x[0],4), round(x[1],4)))"
   ]
  },
  {
   "cell_type": "markdown",
   "id": "135deabb",
   "metadata": {},
   "source": [
    "Observation:  \n",
    "- All estimators perform better than baseline model - sanity check passed\n",
    "- So far GBM and CatBoost seem more promising than XGBoost and LightGBM\n",
    "- XGBoost and LightGBM are most likely overfitting"
   ]
  },
  {
   "cell_type": "markdown",
   "id": "c18d96fa",
   "metadata": {},
   "source": [
    "#### Check feature importance for one of estimators"
   ]
  },
  {
   "cell_type": "code",
   "execution_count": null,
   "id": "3ce387f4",
   "metadata": {
    "ExecuteTime": {
     "end_time": "2021-12-18T22:49:04.297011Z",
     "start_time": "2021-12-18T22:49:02.115607Z"
    }
   },
   "outputs": [],
   "source": [
    "# atom.bar_plot('LGB', show=20, figsize=(8,10)) # <-- doesn't work in mybnder JupyterLab, check why"
   ]
  },
  {
   "cell_type": "markdown",
   "id": "d8479de7",
   "metadata": {},
   "source": [
    "#### Bayesian optimization of hyperparameters"
   ]
  },
  {
   "cell_type": "code",
   "execution_count": null,
   "id": "8da73c31",
   "metadata": {
    "ExecuteTime": {
     "end_time": "2021-12-18T22:50:24.841303Z",
     "start_time": "2021-12-18T22:49:04.298042Z"
    }
   },
   "outputs": [],
   "source": [
    "atom.branch = \"hp_bo\"\n",
    "atom.run(\n",
    "    models=[\"GBM\", \"XGB\", \"CATB\", \"LGB\"],\n",
    "    metric=metric,\n",
    "    n_calls=7,\n",
    "    n_initial_points=3,\n",
    "    bo_params={\n",
    "        \"base_estimator\": \"RF\", \"max_time\": 10000,\n",
    "    },\n",
    "    n_bootstrap=5, verbose=1\n",
    ")"
   ]
  },
  {
   "cell_type": "markdown",
   "id": "c9181161",
   "metadata": {},
   "source": [
    "Todo: transform atom.results to a better readeable format!!!"
   ]
  },
  {
   "cell_type": "code",
   "execution_count": null,
   "id": "a3f199b2",
   "metadata": {
    "ExecuteTime": {
     "end_time": "2021-12-18T22:50:25.034893Z",
     "start_time": "2021-12-18T22:50:24.842496Z"
    }
   },
   "outputs": [],
   "source": [
    "atom.plot_results(figsize=(8,5))\n",
    "atom.results"
   ]
  },
  {
   "cell_type": "markdown",
   "id": "fda961a3",
   "metadata": {},
   "source": [
    "Observation:  \n",
    "- BO leads to models performing more or less on par, with XGBoost leading in ROC_AUC and LightGBM in F1_weighted \n",
    "- Overall performance of models has not increased after H/P BO with n_calls=25, n_initial_points=10,  \n",
    "    it takes several hundred of BO calls to reach ROC_AUC 0.8 and F1_weighted 0,51, probably due  \n",
    "    to high dimensionality of H/P space"
   ]
  },
  {
   "cell_type": "markdown",
   "id": "732e4bb3",
   "metadata": {
    "ExecuteTime": {
     "start_time": "2021-12-18T20:24:48.098Z"
    }
   },
   "source": [
    "### Feature engineering "
   ]
  },
  {
   "cell_type": "markdown",
   "id": "6c222fd3",
   "metadata": {},
   "source": [
    "#### DFS in a separate pipeline branch"
   ]
  },
  {
   "cell_type": "code",
   "execution_count": null,
   "id": "5b446bd8",
   "metadata": {
    "ExecuteTime": {
     "end_time": "2021-12-18T22:50:27.222716Z",
     "start_time": "2021-12-18T22:50:25.035859Z"
    }
   },
   "outputs": [],
   "source": [
    "atom.verbose = 1\n",
    "atom.branch = \"fe\"\n",
    "atom.feature_generation(\"dfs\", n_features=100, operators=[\"add\", \"sub\", \"mul\"])"
   ]
  },
  {
   "cell_type": "markdown",
   "id": "27be27b6",
   "metadata": {},
   "source": [
    "#### Make feature selection: check for multicollinearity and use RFECV to reduce their number"
   ]
  },
  {
   "cell_type": "code",
   "execution_count": null,
   "id": "83cfb91b",
   "metadata": {
    "ExecuteTime": {
     "end_time": "2021-12-18T22:51:30.164363Z",
     "start_time": "2021-12-18T22:50:27.223868Z"
    }
   },
   "outputs": [],
   "source": [
    "atom.feature_selection(\n",
    "    strategy=\"RFECV\",\n",
    "    solver=\"RF\",\n",
    "    n_features=50,\n",
    "    scoring=\"logloss\",\n",
    "    max_correlation=0.98,\n",
    ")"
   ]
  },
  {
   "cell_type": "code",
   "execution_count": null,
   "id": "fe2cd22b",
   "metadata": {
    "ExecuteTime": {
     "end_time": "2021-12-18T22:51:31.825510Z",
     "start_time": "2021-12-18T22:51:30.168192Z"
    }
   },
   "outputs": [],
   "source": [
    "# After applying RFECV, plot the score per number of features\n",
    "atom.plot_rfecv()"
   ]
  },
  {
   "cell_type": "markdown",
   "id": "17108a52",
   "metadata": {},
   "source": [
    "#### Run models with new set of features"
   ]
  },
  {
   "cell_type": "code",
   "execution_count": null,
   "id": "7b7e7754",
   "metadata": {
    "ExecuteTime": {
     "end_time": "2021-12-18T22:51:36.128289Z",
     "start_time": "2021-12-18T22:51:31.826414Z"
    }
   },
   "outputs": [],
   "source": [
    "# Check models' performance now\n",
    "# Add a tag to the model's acronym to not overwrite previous one\n",
    "\n",
    "atom.run(\"GBM_fe\")\n",
    "atom.run(\"XGB_fe\")\n",
    "atom.run(\"CATB_fe\")\n",
    "atom.run(\"LGB_fe\")"
   ]
  },
  {
   "cell_type": "markdown",
   "id": "98f1f149",
   "metadata": {},
   "source": [
    "#### Compare intermediate results"
   ]
  },
  {
   "cell_type": "code",
   "execution_count": null,
   "id": "7e45a916",
   "metadata": {
    "ExecuteTime": {
     "end_time": "2021-12-18T22:51:36.144444Z",
     "start_time": "2021-12-18T22:51:36.129158Z"
    }
   },
   "outputs": [],
   "source": [
    "atom.plot_results()\n",
    "atom.results"
   ]
  },
  {
   "cell_type": "markdown",
   "id": "a41eda5a",
   "metadata": {},
   "source": [
    "Observation:\n",
    "- Feature engineering doesn't show much promise as models run with default parameters perform better in both metrics"
   ]
  },
  {
   "cell_type": "markdown",
   "id": "5f4101d9",
   "metadata": {
    "ExecuteTime": {
     "end_time": "2021-12-18T20:35:24.629349Z",
     "start_time": "2021-12-18T20:35:24.150200Z"
    }
   },
   "source": [
    "#### Run FE-modified models and tune hyperparameters with bayesian optimization"
   ]
  },
  {
   "cell_type": "markdown",
   "id": "ec485c44",
   "metadata": {},
   "source": [
    "Todo: eleminate line wrap in atom.run output"
   ]
  },
  {
   "cell_type": "code",
   "execution_count": null,
   "id": "6cc64c34",
   "metadata": {
    "ExecuteTime": {
     "end_time": "2021-12-18T22:53:16.197537Z",
     "start_time": "2021-12-18T22:51:36.145297Z"
    }
   },
   "outputs": [],
   "source": [
    "atom.branch = \"fe_bo\"\n",
    "\n",
    "atom.run(\n",
    "    models=[\"GBM_fe\", \"XGB_fe\", \"CATB_fe\", \"LGB_fe\"],\n",
    "    metric=metric,\n",
    "    n_calls=7,\n",
    "    n_initial_points=3,\n",
    "    bo_params={\n",
    "        \"base_estimator\": \"RF\", \"max_time\": 10000,\n",
    "    },\n",
    "    n_bootstrap=5, verbose=1\n",
    ")"
   ]
  },
  {
   "cell_type": "markdown",
   "id": "e9a3c091",
   "metadata": {},
   "source": [
    "#### Compare results - final table"
   ]
  },
  {
   "cell_type": "code",
   "execution_count": null,
   "id": "c6ddff9b",
   "metadata": {
    "ExecuteTime": {
     "end_time": "2021-12-18T22:53:16.438733Z",
     "start_time": "2021-12-18T22:53:16.198842Z"
    }
   },
   "outputs": [],
   "source": [
    "atom.plot_results(figsize=(8,5))\n",
    "atom.results"
   ]
  },
  {
   "cell_type": "markdown",
   "id": "6b0fbd54",
   "metadata": {},
   "source": [
    "Observation:  \n",
    "- And the winner is ...\n",
    "- ...on BO and FE"
   ]
  },
  {
   "cell_type": "markdown",
   "id": "5020fde0",
   "metadata": {},
   "source": [
    "#### Learning curves"
   ]
  },
  {
   "cell_type": "code",
   "execution_count": null,
   "id": "f18d1f0f",
   "metadata": {
    "ExecuteTime": {
     "end_time": "2021-12-18T22:53:16.863926Z",
     "start_time": "2021-12-18T22:53:16.439935Z"
    }
   },
   "outputs": [],
   "source": [
    "atom.plot_bo(figsize=(16,5))"
   ]
  },
  {
   "cell_type": "code",
   "execution_count": null,
   "id": "b52c0e7c",
   "metadata": {
    "ExecuteTime": {
     "end_time": "2021-12-18T22:53:17.328257Z",
     "start_time": "2021-12-18T22:53:16.865091Z"
    }
   },
   "outputs": [],
   "source": [
    "# with atom.canvas(2, 2, title=\"Models evaluation\"):\n",
    "#     model_list = [\"XGB\",\"LGB\"]\n",
    "#     for m in model_list:\n",
    "#         atom.plot_evals(m, title=f\"{m}\", figsize=(8,5)) # <-- doesn't work in mybnder JupyterLab, check why"
   ]
  },
  {
   "cell_type": "markdown",
   "id": "4a22ed87",
   "metadata": {},
   "source": [
    "#### One model exploration - show-off"
   ]
  },
  {
   "cell_type": "code",
   "execution_count": null,
   "id": "5def52a1",
   "metadata": {
    "ExecuteTime": {
     "end_time": "2021-12-18T22:53:17.546807Z",
     "start_time": "2021-12-18T22:53:17.329440Z"
    }
   },
   "outputs": [],
   "source": [
    "atom.plot_confusion_matrix(\"CATB\", figsize=(8,5))"
   ]
  },
  {
   "cell_type": "code",
   "execution_count": null,
   "id": "9c3439e5",
   "metadata": {
    "ExecuteTime": {
     "end_time": "2021-12-18T22:53:17.822564Z",
     "start_time": "2021-12-18T22:53:17.548113Z"
    }
   },
   "outputs": [],
   "source": [
    "atom.plot_feature_importance(\"CATB\", 12, figsize=(8,5))"
   ]
  },
  {
   "cell_type": "code",
   "execution_count": null,
   "id": "5afae692",
   "metadata": {
    "ExecuteTime": {
     "end_time": "2021-12-18T22:53:18.664327Z",
     "start_time": "2021-12-18T22:53:17.827187Z"
    }
   },
   "outputs": [],
   "source": [
    "atom.plot_probabilities('CATB', figsize=(8,5))"
   ]
  },
  {
   "cell_type": "markdown",
   "id": "5e0126c3",
   "metadata": {},
   "source": [
    "### Final thoughts"
   ]
  },
  {
   "cell_type": "markdown",
   "id": "c04ad5bf",
   "metadata": {},
   "source": [
    "Despite apparent failures of hyperparameters' optimization and feature engineering on a  \n",
    "particular dataset, all gradient boosted models in question showed robust performance.  \n",
    "\n",
    "Future steps:  \n",
    "- reduce the number of hyperparameters being tuned (impossible now for technical reasons)\n",
    "- drastically increase the number of calls for BO (200-500)\n",
    "- give the models a try on a different dataset\n",
    "- implement similar pipeline logic in sklearn (maybe)\n",
    "- CatBoost crashes ATOM in many function calls, could not explore all useful features of the  \n",
    "    library, will try to run in a different environment (conda may be a culprit)"
   ]
  },
  {
   "cell_type": "code",
   "execution_count": null,
   "id": "c9e9c5cb",
   "metadata": {},
   "outputs": [],
   "source": []
  }
 ],
 "metadata": {
  "kernelspec": {
   "display_name": "Python 3 (ipykernel)",
   "language": "python",
   "name": "python3"
  },
  "language_info": {
   "codemirror_mode": {
    "name": "ipython",
    "version": 3
   },
   "file_extension": ".py",
   "mimetype": "text/x-python",
   "name": "python",
   "nbconvert_exporter": "python",
   "pygments_lexer": "ipython3",
   "version": "3.8.12"
  },
  "toc": {
   "base_numbering": 1,
   "nav_menu": {},
   "number_sections": true,
   "sideBar": true,
   "skip_h1_title": true,
   "title_cell": "Table of Contents",
   "title_sidebar": "Contents",
   "toc_cell": false,
   "toc_position": {},
   "toc_section_display": true,
   "toc_window_display": false
  }
 },
 "nbformat": 4,
 "nbformat_minor": 5
}
